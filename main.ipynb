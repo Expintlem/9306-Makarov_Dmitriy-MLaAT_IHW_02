{
 "cells": [
  {
   "cell_type": "markdown",
   "metadata": {},
   "source": [
    "# МЛиТА 2013\n",
    "# ИДЗ 2, вариант 13\n",
    "## Выполнил: Макаров Дмитрий, студент ЛЭТИ, гр. 9306\n",
    "\n",
    "Залание: Алгебраические формулы со скобками и знаками операций + и -. При этом перед скобкой плюс стоять не может: a+b-(c-(d-f))"
   ]
  },
  {
   "cell_type": "markdown",
   "metadata": {},
   "source": [
    "#### 1. Набор граничных примеров и контрпримеров, демонстрирующих уточнение языка.\n",
    "<table style=\\\"font-size: 17px;\\\">\n",
    "    <tr>\n",
    "        <td>Правильно</td>\n",
    "        <td>Неправильно</td>\n",
    "    </tr>\n",
    "    <tr>\n",
    "        <td>a\n",
    "            a + b\n",
    "            a - b\n",
    "            a - (b - c)\n",
    "            (a + b) - c\n",
    "            (a - b)\n",
    "            a - (b - (c + d - (e - f)))\n",
    "            (a - b) - (c + d)\n",
    "        </td>\n",
    "        <td>+a\n",
    "            -a\n",
    "            -(a + b)\n",
    "        </td>\n",
    "    </tr>\n",
    "</table>"
   ]
  },
  {
   "cell_type": "markdown",
   "metadata": {},
   "source": [
    "#### 2. КС-грамматика языка."
   ]
  },
  {
   "cell_type": "raw",
   "metadata": {},
   "source": [
    "<FORMULA> ::= <CHAR><EXPRESSION> | (<FORMULA>)<EXPRESSION>\n",
    "<EXPRESSION> ::= +<CHAR><EXPRESSION> | -<FORMULA> | /\\"
   ]
  },
  {
   "cell_type": "markdown",
   "metadata": {},
   "source": [
    "#### 3. Грамматический разбор одного примера."
   ]
  },
  {
   "cell_type": "raw",
   "metadata": {},
   "source": [
    "a + b - (c - (d - f))\n",
    "<FORMULA>\n",
    "<CHAR><EXPRESSION>\n",
    "a<EXPRESSION>\n",
    "a + <CHAR><EXPRESSION>\n",
    "a + b<EXPRESSION>\n",
    "a + b - <FORMULA>\n",
    "a + b - (<FORMULA)<EXPRESSION>\n",
    "a + b - (<CHAR><EXPRESSION>)<EXPRESSION>\n",
    "a + b - (c<EXPRESSION>)<EXPRESSION>\n",
    "a + b - (c - <FORMULA>)<EXPRESSION\n",
    "a + b - (c - (<FORMULA>)<EXPRESSION>)<EXPRESSION>\n",
    "a + b - (c - (<CHAR><EXPRESSION>)<EXPRESSION>)<EXPRESSION>\n",
    "a + b - (c - (d<EXPRESSION>)<EXPRESSION>)<EXPRESSION>\n",
    "a + b - (c - (d - <FORMULA>)<EXPRESSION>)<EXPRESSION>\n",
    "a + b - (c - (d - <CHAR><EXPRESSION>)<EXPRESSION>)<EXPRESSION>\n",
    "a + b - (c - (d - f<EXPRESSION>)<EXPRESSION>)<EXPRESSION>\n",
    "a + b - (c - (d - f)<EXPRESSION>)<EXPRESSION>\n",
    "a + b - (c - (d - f))<EXPRESSION>\n",
    "a + b - (c - (d - f)) - correct"
   ]
  },
  {
   "cell_type": "markdown",
   "metadata": {},
   "source": [
    "#### 4. Проверка того, что грамматика удовлетворяет однозначности ветвления по первому символу (принадлежит классу LL0).\n",
    "$$n ::= w_1|w_2|...|w_n$$\n",
    "$$L(w_i) \\cap L(w_j) = \\emptyset$$\n",
    "\n",
    "$$LL1(w_1) = \\{<буква>\\} = {a|b|c|...|z}$$\n",
    "$$LL1(w_2) = \\{(\\}$$\n",
    "$$LL1(w_1) \\cap LL1(w_2) = \\emptyset$$\n",
    "\n",
    "$$LL2(w_1) = \\{+\\}$$\n",
    "$$LL2(w_2) = \\{-\\}$$\n",
    "$$LL2(w_1) \\cap LL2(w_2) = \\emptyset$$\n",
    "\n",
    "Грамматика удовлетворяет условию однозначности ветвления по первому символу"
   ]
  },
  {
   "cell_type": "markdown",
   "metadata": {},
   "source": [
    "#### 5. Модифицированная грамматика (если исходная КС-грамматика не удовлетворяет условию однозначности ветвления).\n",
    "Грамматика удовлетворяет условию."
   ]
  },
  {
   "cell_type": "markdown",
   "metadata": {},
   "source": [
    "#### 6. Таблица перевода языка в диаграммы\n",
    "<table style=\\\"fonr-size: 17px;\\\">\n",
    "    <tr>\n",
    "        <td style=\\\"border: 1px solid black; text-align: center;\\\">Грамматика</td>\n",
    "        <td style=\\\"border: 1px solid black; text-align: center;\\\">Диаграмма</td>\n",
    "    </tr>\n",
    "    <tr>\n",
    "        <td style=\\\"border: 1px solid black;\\\">FORMULA</td>\n",
    "        <td style=\\\"border: 1px solid black;\\\"><imd src=\\\"Images/FORMULA.png\\\"></td>\n",
    "</table>"
   ]
  },
  {
   "cell_type": "code",
   "execution_count": null,
   "metadata": {},
   "outputs": [],
   "source": []
  }
 ],
 "metadata": {
  "kernelspec": {
   "display_name": "Python 3",
   "language": "python",
   "name": "python3"
  },
  "language_info": {
   "codemirror_mode": {
    "name": "ipython",
    "version": 3
   },
   "file_extension": ".py",
   "mimetype": "text/x-python",
   "name": "python",
   "nbconvert_exporter": "python",
   "pygments_lexer": "ipython3",
   "version": "3.7.4"
  }
 },
 "nbformat": 4,
 "nbformat_minor": 2
}
